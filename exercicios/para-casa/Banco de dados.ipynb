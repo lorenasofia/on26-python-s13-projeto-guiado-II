{
 "cells": [
  {
   "cell_type": "markdown",
   "id": "3fb51551",
   "metadata": {},
   "source": [
    "## Banco de dados"
   ]
  },
  {
   "cell_type": "code",
   "execution_count": null,
   "id": "6f065d6e",
   "metadata": {},
   "outputs": [],
   "source": [
    "import csv\n",
    "import sqlite3"
   ]
  },
  {
   "cell_type": "code",
   "execution_count": null,
   "id": "a7aa9973",
   "metadata": {},
   "outputs": [],
   "source": [
    "file = open(\"Best Songs on Spotify from 2000-2023.csv\", encoding= 'UTF-8') "
   ]
  },
  {
   "cell_type": "code",
   "execution_count": null,
   "id": "eaaee9c6",
   "metadata": {},
   "outputs": [],
   "source": [
    "conteudo = csv.reader(file)\n",
    "\n",
    "connection = sqlite3.connect(\"spotify2000-2023.db\")\n",
    "\n",
    "cursor = connection.cursor()"
   ]
  },
  {
   "cell_type": "code",
   "execution_count": null,
   "id": "25d07ce5",
   "metadata": {},
   "outputs": [],
   "source": [
    "cursor.execute('''CREATE TABLE IF NOT EXISTS songs (\n",
    "    title TEXT,\n",
    "    artist TEXT,\n",
    "    top_genre TEXT,\n",
    "    year INT,\n",
    "    bpm INT,\n",
    "    energy FLOAT,\n",
    "    danceability FLOAT,\n",
    "    dB FLOAT,\n",
    "    liveness FLOAT,\n",
    "    valence FLOAT,\n",
    "    duration INT,\n",
    "    acousticness FLOAT,\n",
    "    speechiness FLOAT,\n",
    "    popularity FLOAT\n",
    ")''')\n"
   ]
  },
  {
   "cell_type": "code",
   "execution_count": null,
   "id": "8a047292",
   "metadata": {},
   "outputs": [],
   "source": [
    "\n",
    "inserir_conteudo = \"INSERT INTO songs (title, artist, top_genre, year, bpm, energy, danceability, dB, liveness, valence, duration, acousticness, speechiness, popularity) VALUES (?, ?, ?, ?, ?, ?, ?, ?, ?, ?, ?, ?, ?, ?)\"\n",
    "\n",
    "titulo = \"titulo\"\n",
    "artista = \"artista\"\n",
    "genero = \"genero\"\n",
    "ano = 2022\n",
    "beat = 120\n",
    "sentimento = 0.8\n",
    "dançante = 0.7\n",
    "volume = -5.0\n",
    "vivacidade = 0.2\n",
    "afetividade = 0.9\n",
    "duraçao = 240\n",
    "acustica = 0.1\n",
    "expressividade_vocal = 0.05\n",
    "popularidade = 85\n",
    "\n",
    "conteudo = [\n",
    "    (titulo, artista, genero, ano, beat, sentimento, dançante, volume, vivacidade, afetividade, duraçao, acustica, expressividade_vocal, popularidade)\n",
    "]\n",
    "\n",
    "cursor.executemany(inserir_conteudo, conteudo)"
   ]
  },
  {
   "cell_type": "code",
   "execution_count": null,
   "id": "51ed46b3",
   "metadata": {},
   "outputs": [],
   "source": [
    "selecionar_tudo = \"SELECT * FROM songs\"\n",
    "entradas = cursor.execute(selecionar_tudo).fetchall()"
   ]
  },
  {
   "cell_type": "code",
   "execution_count": null,
   "id": "f30ba732",
   "metadata": {},
   "outputs": [],
   "source": [
    "for entrada in entradas:\n",
    "  print(entrada)"
   ]
  },
  {
   "cell_type": "code",
   "execution_count": null,
   "id": "a7dcca72",
   "metadata": {},
   "outputs": [],
   "source": [
    "connection.commit()\n",
    "connection.close()"
   ]
  },
  {
   "cell_type": "code",
   "execution_count": null,
   "id": "676a9111",
   "metadata": {},
   "outputs": [],
   "source": []
  }
 ],
 "metadata": {
  "kernelspec": {
   "display_name": "Python 3 (ipykernel)",
   "language": "python",
   "name": "python3"
  },
  "language_info": {
   "codemirror_mode": {
    "name": "ipython",
    "version": 3
   },
   "file_extension": ".py",
   "mimetype": "text/x-python",
   "name": "python",
   "nbconvert_exporter": "python",
   "pygments_lexer": "ipython3",
   "version": "3.11.4"
  }
 },
 "nbformat": 4,
 "nbformat_minor": 5
}
